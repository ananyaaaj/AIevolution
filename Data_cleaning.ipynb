{
 "cells": [
  {
   "cell_type": "markdown",
   "id": "571daafd-f75f-4431-bf96-0aa02fbf6e50",
   "metadata": {},
   "source": [
    "## Importing Required Libraries"
   ]
  },
  {
   "cell_type": "code",
   "execution_count": 1,
   "id": "fbb16ba1-1dbb-4b65-a70e-1068921790f2",
   "metadata": {},
   "outputs": [],
   "source": [
    "import pandas as pd\n",
    "import os\n",
    "import numpy as np\n",
    "import matplotlib.pyplot as plt\n",
    "import seaborn as sns\n",
    "import warnings\n",
    "warnings.filterwarnings('ignore')"
   ]
  },
  {
   "cell_type": "markdown",
   "id": "a03c23ab-49ea-49ad-8dbd-2e38de212754",
   "metadata": {},
   "source": [
    "## Loading Dataset"
   ]
  },
  {
   "cell_type": "code",
   "execution_count": 2,
   "id": "c2ab873f-7a98-4d8f-881b-502f8a5fcb48",
   "metadata": {},
   "outputs": [],
   "source": [
    "curr_dir=os.getcwd()\n",
    "data_path=os.path.join(curr_dir,'Dataset/data.csv')"
   ]
  },
  {
   "cell_type": "code",
   "execution_count": 3,
   "id": "ab6c29f7-1587-4cfc-a638-66108b0b6c10",
   "metadata": {},
   "outputs": [],
   "source": [
    "data=pd.read_csv(data_path)"
   ]
  },
  {
   "cell_type": "markdown",
   "id": "7f3d43bc-2961-43a1-9e9c-8747a8f13068",
   "metadata": {},
   "source": [
    "## Understanding dataset"
   ]
  },
  {
   "cell_type": "code",
   "execution_count": 4,
   "id": "af1e31c9-d45a-457c-9e97-9d5a9124c8d8",
   "metadata": {},
   "outputs": [
    {
     "data": {
      "text/plain": [
       "(4706, 6)"
      ]
     },
     "execution_count": 4,
     "metadata": {},
     "output_type": "execute_result"
    }
   ],
   "source": [
    "data.shape"
   ]
  },
  {
   "cell_type": "code",
   "execution_count": 5,
   "id": "be6119ba-a130-41ff-9a12-1e57ce50277e",
   "metadata": {},
   "outputs": [
    {
     "name": "stdout",
     "output_type": "stream",
     "text": [
      "<class 'pandas.core.frame.DataFrame'>\n",
      "RangeIndex: 4706 entries, 0 to 4705\n",
      "Data columns (total 6 columns):\n",
      " #   Column             Non-Null Count  Dtype  \n",
      "---  ------             --------------  -----  \n",
      " 0   Job title          4706 non-null   object \n",
      " 1   AI Impact          4706 non-null   object \n",
      " 2   Tasks              4706 non-null   int64  \n",
      " 3   AI models          4706 non-null   int64  \n",
      " 4   AI_Workload_Ratio  4706 non-null   float64\n",
      " 5   Domain             4706 non-null   object \n",
      "dtypes: float64(1), int64(2), object(3)\n",
      "memory usage: 220.7+ KB\n"
     ]
    }
   ],
   "source": [
    "data.info()"
   ]
  },
  {
   "cell_type": "code",
   "execution_count": 6,
   "id": "6cd60ac9-4e70-4cd8-859c-4f6bb48cb8f9",
   "metadata": {},
   "outputs": [
    {
     "data": {
      "text/html": [
       "<div>\n",
       "<style scoped>\n",
       "    .dataframe tbody tr th:only-of-type {\n",
       "        vertical-align: middle;\n",
       "    }\n",
       "\n",
       "    .dataframe tbody tr th {\n",
       "        vertical-align: top;\n",
       "    }\n",
       "\n",
       "    .dataframe thead th {\n",
       "        text-align: right;\n",
       "    }\n",
       "</style>\n",
       "<table border=\"1\" class=\"dataframe\">\n",
       "  <thead>\n",
       "    <tr style=\"text-align: right;\">\n",
       "      <th></th>\n",
       "      <th>Job title</th>\n",
       "      <th>AI Impact</th>\n",
       "      <th>Tasks</th>\n",
       "      <th>AI models</th>\n",
       "      <th>AI_Workload_Ratio</th>\n",
       "      <th>Domain</th>\n",
       "    </tr>\n",
       "  </thead>\n",
       "  <tbody>\n",
       "    <tr>\n",
       "      <th>0</th>\n",
       "      <td>Communications Manager</td>\n",
       "      <td>98%</td>\n",
       "      <td>365</td>\n",
       "      <td>2546</td>\n",
       "      <td>0.143362</td>\n",
       "      <td>Communication &amp; PR</td>\n",
       "    </tr>\n",
       "    <tr>\n",
       "      <th>1</th>\n",
       "      <td>Data Collector</td>\n",
       "      <td>95%</td>\n",
       "      <td>299</td>\n",
       "      <td>2148</td>\n",
       "      <td>0.139199</td>\n",
       "      <td>Data &amp; IT</td>\n",
       "    </tr>\n",
       "    <tr>\n",
       "      <th>2</th>\n",
       "      <td>Data Entry</td>\n",
       "      <td>95%</td>\n",
       "      <td>325</td>\n",
       "      <td>2278</td>\n",
       "      <td>0.142669</td>\n",
       "      <td>Administrative &amp; Clerical</td>\n",
       "    </tr>\n",
       "    <tr>\n",
       "      <th>3</th>\n",
       "      <td>Mail Clerk</td>\n",
       "      <td>95%</td>\n",
       "      <td>193</td>\n",
       "      <td>1366</td>\n",
       "      <td>0.141288</td>\n",
       "      <td>Administrative &amp; Clerical</td>\n",
       "    </tr>\n",
       "    <tr>\n",
       "      <th>4</th>\n",
       "      <td>Compliance Officer</td>\n",
       "      <td>92%</td>\n",
       "      <td>194</td>\n",
       "      <td>1369</td>\n",
       "      <td>0.141709</td>\n",
       "      <td>Medical &amp; Healthcare</td>\n",
       "    </tr>\n",
       "  </tbody>\n",
       "</table>\n",
       "</div>"
      ],
      "text/plain": [
       "                Job title AI Impact  Tasks  AI models  AI_Workload_Ratio  \\\n",
       "0  Communications Manager       98%    365       2546           0.143362   \n",
       "1          Data Collector       95%    299       2148           0.139199   \n",
       "2              Data Entry       95%    325       2278           0.142669   \n",
       "3              Mail Clerk       95%    193       1366           0.141288   \n",
       "4      Compliance Officer       92%    194       1369           0.141709   \n",
       "\n",
       "                      Domain  \n",
       "0         Communication & PR  \n",
       "1                  Data & IT  \n",
       "2  Administrative & Clerical  \n",
       "3  Administrative & Clerical  \n",
       "4       Medical & Healthcare  "
      ]
     },
     "execution_count": 6,
     "metadata": {},
     "output_type": "execute_result"
    }
   ],
   "source": [
    "data.head()"
   ]
  },
  {
   "cell_type": "code",
   "execution_count": 7,
   "id": "547ee409-0026-465a-a012-d2bd41183eb8",
   "metadata": {},
   "outputs": [
    {
     "data": {
      "text/plain": [
       "array(['Communication & PR', 'Data & IT', 'Administrative & Clerical',\n",
       "       'Medical & Healthcare', 'Leadership & Strategy', 'Law Enforcement',\n",
       "       'Construction', 'Sales & Marketing', 'Hospitality',\n",
       "       'Supply Chain & Logistics'], dtype=object)"
      ]
     },
     "execution_count": 7,
     "metadata": {},
     "output_type": "execute_result"
    }
   ],
   "source": [
    "data['Domain'].unique()"
   ]
  },
  {
   "cell_type": "code",
   "execution_count": 8,
   "id": "591c1e26-cc85-49f6-99ca-19333eb08e68",
   "metadata": {},
   "outputs": [
    {
     "data": {
      "text/html": [
       "<div>\n",
       "<style scoped>\n",
       "    .dataframe tbody tr th:only-of-type {\n",
       "        vertical-align: middle;\n",
       "    }\n",
       "\n",
       "    .dataframe tbody tr th {\n",
       "        vertical-align: top;\n",
       "    }\n",
       "\n",
       "    .dataframe thead th {\n",
       "        text-align: right;\n",
       "    }\n",
       "</style>\n",
       "<table border=\"1\" class=\"dataframe\">\n",
       "  <thead>\n",
       "    <tr style=\"text-align: right;\">\n",
       "      <th></th>\n",
       "      <th>Tasks</th>\n",
       "      <th>AI models</th>\n",
       "      <th>AI_Workload_Ratio</th>\n",
       "    </tr>\n",
       "  </thead>\n",
       "  <tbody>\n",
       "    <tr>\n",
       "      <th>count</th>\n",
       "      <td>4706.000000</td>\n",
       "      <td>4706.000000</td>\n",
       "      <td>4706.000000</td>\n",
       "    </tr>\n",
       "    <tr>\n",
       "      <th>mean</th>\n",
       "      <td>400.708032</td>\n",
       "      <td>1817.678071</td>\n",
       "      <td>inf</td>\n",
       "    </tr>\n",
       "    <tr>\n",
       "      <th>std</th>\n",
       "      <td>311.564781</td>\n",
       "      <td>1086.853037</td>\n",
       "      <td>NaN</td>\n",
       "    </tr>\n",
       "    <tr>\n",
       "      <th>min</th>\n",
       "      <td>1.000000</td>\n",
       "      <td>0.000000</td>\n",
       "      <td>0.036585</td>\n",
       "    </tr>\n",
       "    <tr>\n",
       "      <th>25%</th>\n",
       "      <td>161.000000</td>\n",
       "      <td>1085.250000</td>\n",
       "      <td>0.137271</td>\n",
       "    </tr>\n",
       "    <tr>\n",
       "      <th>50%</th>\n",
       "      <td>270.000000</td>\n",
       "      <td>1577.500000</td>\n",
       "      <td>0.199281</td>\n",
       "    </tr>\n",
       "    <tr>\n",
       "      <th>75%</th>\n",
       "      <td>608.750000</td>\n",
       "      <td>2273.000000</td>\n",
       "      <td>0.260572</td>\n",
       "    </tr>\n",
       "    <tr>\n",
       "      <th>max</th>\n",
       "      <td>1387.000000</td>\n",
       "      <td>5666.000000</td>\n",
       "      <td>inf</td>\n",
       "    </tr>\n",
       "  </tbody>\n",
       "</table>\n",
       "</div>"
      ],
      "text/plain": [
       "             Tasks    AI models  AI_Workload_Ratio\n",
       "count  4706.000000  4706.000000        4706.000000\n",
       "mean    400.708032  1817.678071                inf\n",
       "std     311.564781  1086.853037                NaN\n",
       "min       1.000000     0.000000           0.036585\n",
       "25%     161.000000  1085.250000           0.137271\n",
       "50%     270.000000  1577.500000           0.199281\n",
       "75%     608.750000  2273.000000           0.260572\n",
       "max    1387.000000  5666.000000                inf"
      ]
     },
     "execution_count": 8,
     "metadata": {},
     "output_type": "execute_result"
    }
   ],
   "source": [
    "data.describe()"
   ]
  },
  {
   "cell_type": "markdown",
   "id": "1d55b284-21c3-4ff3-aac1-3084bf079910",
   "metadata": {},
   "source": [
    "## Replacing inf values"
   ]
  },
  {
   "cell_type": "code",
   "execution_count": 9,
   "id": "ca0d1d67-95d4-4736-9de0-a38729c05989",
   "metadata": {},
   "outputs": [],
   "source": [
    "data['AI_Workload_Ratio'].replace([np.inf,-np.inf],np.nan,inplace=True)"
   ]
  },
  {
   "cell_type": "code",
   "execution_count": 10,
   "id": "fdc776a4-070a-47e9-a433-de043edc7e45",
   "metadata": {},
   "outputs": [
    {
     "data": {
      "text/html": [
       "<div>\n",
       "<style scoped>\n",
       "    .dataframe tbody tr th:only-of-type {\n",
       "        vertical-align: middle;\n",
       "    }\n",
       "\n",
       "    .dataframe tbody tr th {\n",
       "        vertical-align: top;\n",
       "    }\n",
       "\n",
       "    .dataframe thead th {\n",
       "        text-align: right;\n",
       "    }\n",
       "</style>\n",
       "<table border=\"1\" class=\"dataframe\">\n",
       "  <thead>\n",
       "    <tr style=\"text-align: right;\">\n",
       "      <th></th>\n",
       "      <th>Tasks</th>\n",
       "      <th>AI models</th>\n",
       "      <th>AI_Workload_Ratio</th>\n",
       "    </tr>\n",
       "  </thead>\n",
       "  <tbody>\n",
       "    <tr>\n",
       "      <th>count</th>\n",
       "      <td>4706.000000</td>\n",
       "      <td>4706.000000</td>\n",
       "      <td>4699.000000</td>\n",
       "    </tr>\n",
       "    <tr>\n",
       "      <th>mean</th>\n",
       "      <td>400.708032</td>\n",
       "      <td>1817.678071</td>\n",
       "      <td>0.204619</td>\n",
       "    </tr>\n",
       "    <tr>\n",
       "      <th>std</th>\n",
       "      <td>311.564781</td>\n",
       "      <td>1086.853037</td>\n",
       "      <td>0.076547</td>\n",
       "    </tr>\n",
       "    <tr>\n",
       "      <th>min</th>\n",
       "      <td>1.000000</td>\n",
       "      <td>0.000000</td>\n",
       "      <td>0.036585</td>\n",
       "    </tr>\n",
       "    <tr>\n",
       "      <th>25%</th>\n",
       "      <td>161.000000</td>\n",
       "      <td>1085.250000</td>\n",
       "      <td>0.137262</td>\n",
       "    </tr>\n",
       "    <tr>\n",
       "      <th>50%</th>\n",
       "      <td>270.000000</td>\n",
       "      <td>1577.500000</td>\n",
       "      <td>0.198885</td>\n",
       "    </tr>\n",
       "    <tr>\n",
       "      <th>75%</th>\n",
       "      <td>608.750000</td>\n",
       "      <td>2273.000000</td>\n",
       "      <td>0.260450</td>\n",
       "    </tr>\n",
       "    <tr>\n",
       "      <th>max</th>\n",
       "      <td>1387.000000</td>\n",
       "      <td>5666.000000</td>\n",
       "      <td>1.000000</td>\n",
       "    </tr>\n",
       "  </tbody>\n",
       "</table>\n",
       "</div>"
      ],
      "text/plain": [
       "             Tasks    AI models  AI_Workload_Ratio\n",
       "count  4706.000000  4706.000000        4699.000000\n",
       "mean    400.708032  1817.678071           0.204619\n",
       "std     311.564781  1086.853037           0.076547\n",
       "min       1.000000     0.000000           0.036585\n",
       "25%     161.000000  1085.250000           0.137262\n",
       "50%     270.000000  1577.500000           0.198885\n",
       "75%     608.750000  2273.000000           0.260450\n",
       "max    1387.000000  5666.000000           1.000000"
      ]
     },
     "execution_count": 10,
     "metadata": {},
     "output_type": "execute_result"
    }
   ],
   "source": [
    "data.describe()"
   ]
  },
  {
   "cell_type": "markdown",
   "id": "39bc2c41-b1bf-42e2-bd05-4b40aaba1907",
   "metadata": {},
   "source": [
    "## Data cleaning"
   ]
  },
  {
   "cell_type": "code",
   "execution_count": 11,
   "id": "c65ec824-0f61-4d4e-a637-8de145384787",
   "metadata": {},
   "outputs": [
    {
     "data": {
      "text/plain": [
       "0       0.98\n",
       "1       0.95\n",
       "2       0.95\n",
       "3       0.95\n",
       "4       0.92\n",
       "        ... \n",
       "4701    0.05\n",
       "4702    0.05\n",
       "4703    0.05\n",
       "4704    0.05\n",
       "4705    0.05\n",
       "Name: AI Impact, Length: 4706, dtype: float64"
      ]
     },
     "execution_count": 11,
     "metadata": {},
     "output_type": "execute_result"
    }
   ],
   "source": [
    "data['AI Impact']=data['AI Impact'].str.strip('%').astype(float)/100\n",
    "data['AI Impact']"
   ]
  },
  {
   "cell_type": "code",
   "execution_count": 12,
   "id": "734781ee-be95-4821-8c90-207d7ddf4c4a",
   "metadata": {},
   "outputs": [],
   "source": [
    "data.drop_duplicates(inplace=True)"
   ]
  },
  {
   "cell_type": "markdown",
   "id": "d99038ef-0737-4aa6-a449-8d3349663116",
   "metadata": {},
   "source": [
    "## Feature extraction"
   ]
  },
  {
   "cell_type": "code",
   "execution_count": 13,
   "id": "394b5b26-611b-4940-b23a-b4e8bec0e15e",
   "metadata": {},
   "outputs": [],
   "source": [
    "def impact_level(impact):\n",
    "    if impact >= 0.9:\n",
    "        return 'Revolutionary'\n",
    "    elif 0.75 <= impact < 0.9:\n",
    "        return 'Significant'\n",
    "    elif 0.5 <= impact < 0.75:\n",
    "        return 'Moderate'\n",
    "    elif 0.25 <= impact < 0.5:\n",
    "        return 'Minor'\n",
    "    else:\n",
    "        return 'Negligible'\n",
    "\n",
    "data['Impact_Level'] = data['AI Impact'].apply(impact_level)\n"
   ]
  },
  {
   "cell_type": "code",
   "execution_count": 14,
   "id": "ab1d074c-1170-4011-a651-b12ec1e739c5",
   "metadata": {},
   "outputs": [
    {
     "data": {
      "text/plain": [
       "Impact_Level\n",
       "Negligible       1993\n",
       "Minor            1909\n",
       "Moderate          674\n",
       "Significant       110\n",
       "Revolutionary      20\n",
       "Name: count, dtype: int64"
      ]
     },
     "execution_count": 14,
     "metadata": {},
     "output_type": "execute_result"
    }
   ],
   "source": [
    "data['Impact_Level'].value_counts()"
   ]
  },
  {
   "cell_type": "code",
   "execution_count": 16,
   "id": "3d79f9d6-7d47-458f-95cc-b58d2be94af3",
   "metadata": {},
   "outputs": [],
   "source": [
    "data.to_csv('Dataset/Clean_Data.csv',index=False)"
   ]
  },
  {
   "cell_type": "code",
   "execution_count": null,
   "id": "f9037bd2-7414-4a2f-be86-39a7f135181d",
   "metadata": {},
   "outputs": [],
   "source": []
  },
  {
   "cell_type": "code",
   "execution_count": null,
   "id": "f40b81a8-f642-493f-8dba-6c1d6fcf5a81",
   "metadata": {},
   "outputs": [],
   "source": []
  }
 ],
 "metadata": {
  "kernelspec": {
   "display_name": "Python 3 (ipykernel)",
   "language": "python",
   "name": "python3"
  },
  "language_info": {
   "codemirror_mode": {
    "name": "ipython",
    "version": 3
   },
   "file_extension": ".py",
   "mimetype": "text/x-python",
   "name": "python",
   "nbconvert_exporter": "python",
   "pygments_lexer": "ipython3",
   "version": "3.11.4"
  }
 },
 "nbformat": 4,
 "nbformat_minor": 5
}
